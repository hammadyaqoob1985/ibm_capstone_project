{
 "cells": [
  {
   "cell_type": "markdown",
   "metadata": {},
   "source": [
    "This notebook is for the ibm capstone project to build a model to predeict the severtiy on an accident"
   ]
  },
  {
   "cell_type": "code",
   "execution_count": 212,
   "metadata": {},
   "outputs": [],
   "source": [
    "import pandas as pd\n",
    "import numpy as np"
   ]
  },
  {
   "cell_type": "code",
   "execution_count": 213,
   "metadata": {},
   "outputs": [
    {
     "name": "stdout",
     "output_type": "stream",
     "text": [
      "Hello Capstone Project Course!\n"
     ]
    }
   ],
   "source": [
    "print('Hello Capstone Project Course!')"
   ]
  },
  {
   "cell_type": "code",
   "execution_count": 214,
   "metadata": {},
   "outputs": [
    {
     "name": "stderr",
     "output_type": "stream",
     "text": [
      "/Users/hammad/opt/anaconda3/lib/python3.7/site-packages/IPython/core/interactiveshell.py:3063: DtypeWarning: Columns (33) have mixed types.Specify dtype option on import or set low_memory=False.\n",
      "  interactivity=interactivity, compiler=compiler, result=result)\n"
     ]
    },
    {
     "name": "stdout",
     "output_type": "stream",
     "text": [
      "Index(['SEVERITYCODE', 'X', 'Y', 'OBJECTID', 'INCKEY', 'COLDETKEY', 'REPORTNO',\n",
      "       'STATUS', 'ADDRTYPE', 'INTKEY', 'LOCATION', 'EXCEPTRSNCODE',\n",
      "       'EXCEPTRSNDESC', 'SEVERITYCODE.1', 'SEVERITYDESC', 'COLLISIONTYPE',\n",
      "       'PERSONCOUNT', 'PEDCOUNT', 'PEDCYLCOUNT', 'VEHCOUNT', 'INCDATE',\n",
      "       'INCDTTM', 'JUNCTIONTYPE', 'SDOT_COLCODE', 'SDOT_COLDESC',\n",
      "       'INATTENTIONIND', 'UNDERINFL', 'WEATHER', 'ROADCOND', 'LIGHTCOND',\n",
      "       'PEDROWNOTGRNT', 'SDOTCOLNUM', 'SPEEDING', 'ST_COLCODE', 'ST_COLDESC',\n",
      "       'SEGLANEKEY', 'CROSSWALKKEY', 'HITPARKEDCAR'],\n",
      "      dtype='object')\n"
     ]
    }
   ],
   "source": [
    "df = pd.read_csv(\"Data-Collisions.csv\")\n",
    "print(df.columns)"
   ]
  },
  {
   "cell_type": "code",
   "execution_count": 215,
   "metadata": {},
   "outputs": [],
   "source": [
    "df = df[df['EXCEPTRSNCODE'] != 'NEI']\n",
    "df = df[df['X'].notna() & df['Y'].notna()]\n",
    "\n",
    "df['UNDERINFL'] = df['UNDERINFL'].fillna('0')\n",
    "df[\"UNDERINFL\"].replace({\"Y\": '1', \"N\": \"0\"}, inplace=True)\n",
    "df[[\"UNDERINFL\"]] = df[[\"UNDERINFL\"]].astype(\"int\")\n",
    "\n",
    "df['SPEEDING'] = df['SPEEDING'].fillna('0')\n",
    "df[\"SPEEDING\"].replace({\"Y\": '1'}, inplace=True)\n",
    "df[[\"SPEEDING\"]] = df[[\"SPEEDING\"]].astype(\"int\")\n",
    "\n",
    "df['INATTENTIONIND'] = df['INATTENTIONIND'].fillna('0')\n",
    "df[\"INATTENTIONIND\"].replace({\"Y\": '1'}, inplace=True)\n",
    "df[[\"INATTENTIONIND\"]] = df[[\"INATTENTIONIND\"]].astype(\"int\")"
   ]
  },
  {
   "cell_type": "code",
   "execution_count": 216,
   "metadata": {},
   "outputs": [],
   "source": [
    "df_relevant=df[['SEVERITYCODE','X', 'Y', 'ADDRTYPE','INTKEY','LOCATION','INCDATE', 'INCDTTM', 'JUNCTIONTYPE', 'INATTENTIONIND','UNDERINFL','WEATHER','ROADCOND','LIGHTCOND','SPEEDING', 'SEGLANEKEY', 'CROSSWALKKEY']]"
   ]
  },
  {
   "cell_type": "code",
   "execution_count": 217,
   "metadata": {},
   "outputs": [
    {
     "data": {
      "text/html": [
       "<div>\n",
       "<style scoped>\n",
       "    .dataframe tbody tr th:only-of-type {\n",
       "        vertical-align: middle;\n",
       "    }\n",
       "\n",
       "    .dataframe tbody tr th {\n",
       "        vertical-align: top;\n",
       "    }\n",
       "\n",
       "    .dataframe thead th {\n",
       "        text-align: right;\n",
       "    }\n",
       "</style>\n",
       "<table border=\"1\" class=\"dataframe\">\n",
       "  <thead>\n",
       "    <tr style=\"text-align: right;\">\n",
       "      <th></th>\n",
       "      <th>SEVERITYCODE</th>\n",
       "      <th>X</th>\n",
       "      <th>Y</th>\n",
       "      <th>ADDRTYPE</th>\n",
       "      <th>INTKEY</th>\n",
       "      <th>LOCATION</th>\n",
       "      <th>INCDATE</th>\n",
       "      <th>INCDTTM</th>\n",
       "      <th>JUNCTIONTYPE</th>\n",
       "      <th>INATTENTIONIND</th>\n",
       "      <th>UNDERINFL</th>\n",
       "      <th>WEATHER</th>\n",
       "      <th>ROADCOND</th>\n",
       "      <th>LIGHTCOND</th>\n",
       "      <th>SPEEDING</th>\n",
       "      <th>SEGLANEKEY</th>\n",
       "      <th>CROSSWALKKEY</th>\n",
       "    </tr>\n",
       "  </thead>\n",
       "  <tbody>\n",
       "    <tr>\n",
       "      <th>count</th>\n",
       "      <td>185653.000000</td>\n",
       "      <td>185653.000000</td>\n",
       "      <td>185653.000000</td>\n",
       "      <td>185653</td>\n",
       "      <td>64081.000000</td>\n",
       "      <td>185653</td>\n",
       "      <td>185653</td>\n",
       "      <td>185653</td>\n",
       "      <td>182726</td>\n",
       "      <td>185653.000000</td>\n",
       "      <td>185653.000000</td>\n",
       "      <td>181392</td>\n",
       "      <td>181459</td>\n",
       "      <td>181322</td>\n",
       "      <td>185653.000000</td>\n",
       "      <td>185653.000000</td>\n",
       "      <td>1.856530e+05</td>\n",
       "    </tr>\n",
       "    <tr>\n",
       "      <th>unique</th>\n",
       "      <td>NaN</td>\n",
       "      <td>NaN</td>\n",
       "      <td>NaN</td>\n",
       "      <td>2</td>\n",
       "      <td>NaN</td>\n",
       "      <td>23679</td>\n",
       "      <td>5984</td>\n",
       "      <td>155072</td>\n",
       "      <td>7</td>\n",
       "      <td>NaN</td>\n",
       "      <td>NaN</td>\n",
       "      <td>11</td>\n",
       "      <td>9</td>\n",
       "      <td>9</td>\n",
       "      <td>NaN</td>\n",
       "      <td>NaN</td>\n",
       "      <td>NaN</td>\n",
       "    </tr>\n",
       "    <tr>\n",
       "      <th>top</th>\n",
       "      <td>NaN</td>\n",
       "      <td>NaN</td>\n",
       "      <td>NaN</td>\n",
       "      <td>Block</td>\n",
       "      <td>NaN</td>\n",
       "      <td>N NORTHGATE WAY BETWEEN MERIDIAN AVE N AND COR...</td>\n",
       "      <td>2006/11/02 00:00:00+00</td>\n",
       "      <td>11/2/2006</td>\n",
       "      <td>Mid-Block (not related to intersection)</td>\n",
       "      <td>NaN</td>\n",
       "      <td>NaN</td>\n",
       "      <td>Clear</td>\n",
       "      <td>Dry</td>\n",
       "      <td>Daylight</td>\n",
       "      <td>NaN</td>\n",
       "      <td>NaN</td>\n",
       "      <td>NaN</td>\n",
       "    </tr>\n",
       "    <tr>\n",
       "      <th>freq</th>\n",
       "      <td>NaN</td>\n",
       "      <td>NaN</td>\n",
       "      <td>NaN</td>\n",
       "      <td>121572</td>\n",
       "      <td>NaN</td>\n",
       "      <td>261</td>\n",
       "      <td>88</td>\n",
       "      <td>88</td>\n",
       "      <td>85673</td>\n",
       "      <td>NaN</td>\n",
       "      <td>NaN</td>\n",
       "      <td>108080</td>\n",
       "      <td>121175</td>\n",
       "      <td>112455</td>\n",
       "      <td>NaN</td>\n",
       "      <td>NaN</td>\n",
       "      <td>NaN</td>\n",
       "    </tr>\n",
       "    <tr>\n",
       "      <th>mean</th>\n",
       "      <td>1.305947</td>\n",
       "      <td>-122.330503</td>\n",
       "      <td>47.619526</td>\n",
       "      <td>NaN</td>\n",
       "      <td>37348.094739</td>\n",
       "      <td>NaN</td>\n",
       "      <td>NaN</td>\n",
       "      <td>NaN</td>\n",
       "      <td>NaN</td>\n",
       "      <td>0.154880</td>\n",
       "      <td>0.047697</td>\n",
       "      <td>NaN</td>\n",
       "      <td>NaN</td>\n",
       "      <td>NaN</td>\n",
       "      <td>0.046759</td>\n",
       "      <td>277.988489</td>\n",
       "      <td>9.996757e+03</td>\n",
       "    </tr>\n",
       "    <tr>\n",
       "      <th>std</th>\n",
       "      <td>0.460809</td>\n",
       "      <td>0.029968</td>\n",
       "      <td>0.056274</td>\n",
       "      <td>NaN</td>\n",
       "      <td>50983.173636</td>\n",
       "      <td>NaN</td>\n",
       "      <td>NaN</td>\n",
       "      <td>NaN</td>\n",
       "      <td>NaN</td>\n",
       "      <td>0.361792</td>\n",
       "      <td>0.213124</td>\n",
       "      <td>NaN</td>\n",
       "      <td>NaN</td>\n",
       "      <td>NaN</td>\n",
       "      <td>0.211123</td>\n",
       "      <td>3380.728115</td>\n",
       "      <td>7.305605e+04</td>\n",
       "    </tr>\n",
       "    <tr>\n",
       "      <th>min</th>\n",
       "      <td>1.000000</td>\n",
       "      <td>-122.419091</td>\n",
       "      <td>47.495573</td>\n",
       "      <td>NaN</td>\n",
       "      <td>23808.000000</td>\n",
       "      <td>NaN</td>\n",
       "      <td>NaN</td>\n",
       "      <td>NaN</td>\n",
       "      <td>NaN</td>\n",
       "      <td>0.000000</td>\n",
       "      <td>0.000000</td>\n",
       "      <td>NaN</td>\n",
       "      <td>NaN</td>\n",
       "      <td>NaN</td>\n",
       "      <td>0.000000</td>\n",
       "      <td>0.000000</td>\n",
       "      <td>0.000000e+00</td>\n",
       "    </tr>\n",
       "    <tr>\n",
       "      <th>25%</th>\n",
       "      <td>1.000000</td>\n",
       "      <td>-122.348673</td>\n",
       "      <td>47.575623</td>\n",
       "      <td>NaN</td>\n",
       "      <td>28665.000000</td>\n",
       "      <td>NaN</td>\n",
       "      <td>NaN</td>\n",
       "      <td>NaN</td>\n",
       "      <td>NaN</td>\n",
       "      <td>0.000000</td>\n",
       "      <td>0.000000</td>\n",
       "      <td>NaN</td>\n",
       "      <td>NaN</td>\n",
       "      <td>NaN</td>\n",
       "      <td>0.000000</td>\n",
       "      <td>0.000000</td>\n",
       "      <td>0.000000e+00</td>\n",
       "    </tr>\n",
       "    <tr>\n",
       "      <th>50%</th>\n",
       "      <td>1.000000</td>\n",
       "      <td>-122.330258</td>\n",
       "      <td>47.615310</td>\n",
       "      <td>NaN</td>\n",
       "      <td>29973.000000</td>\n",
       "      <td>NaN</td>\n",
       "      <td>NaN</td>\n",
       "      <td>NaN</td>\n",
       "      <td>NaN</td>\n",
       "      <td>0.000000</td>\n",
       "      <td>0.000000</td>\n",
       "      <td>NaN</td>\n",
       "      <td>NaN</td>\n",
       "      <td>NaN</td>\n",
       "      <td>0.000000</td>\n",
       "      <td>0.000000</td>\n",
       "      <td>0.000000e+00</td>\n",
       "    </tr>\n",
       "    <tr>\n",
       "      <th>75%</th>\n",
       "      <td>2.000000</td>\n",
       "      <td>-122.311937</td>\n",
       "      <td>47.663849</td>\n",
       "      <td>NaN</td>\n",
       "      <td>33983.000000</td>\n",
       "      <td>NaN</td>\n",
       "      <td>NaN</td>\n",
       "      <td>NaN</td>\n",
       "      <td>NaN</td>\n",
       "      <td>0.000000</td>\n",
       "      <td>0.000000</td>\n",
       "      <td>NaN</td>\n",
       "      <td>NaN</td>\n",
       "      <td>NaN</td>\n",
       "      <td>0.000000</td>\n",
       "      <td>0.000000</td>\n",
       "      <td>0.000000e+00</td>\n",
       "    </tr>\n",
       "    <tr>\n",
       "      <th>max</th>\n",
       "      <td>2.000000</td>\n",
       "      <td>-122.238949</td>\n",
       "      <td>47.734142</td>\n",
       "      <td>NaN</td>\n",
       "      <td>757580.000000</td>\n",
       "      <td>NaN</td>\n",
       "      <td>NaN</td>\n",
       "      <td>NaN</td>\n",
       "      <td>NaN</td>\n",
       "      <td>1.000000</td>\n",
       "      <td>1.000000</td>\n",
       "      <td>NaN</td>\n",
       "      <td>NaN</td>\n",
       "      <td>NaN</td>\n",
       "      <td>1.000000</td>\n",
       "      <td>525241.000000</td>\n",
       "      <td>5.239700e+06</td>\n",
       "    </tr>\n",
       "  </tbody>\n",
       "</table>\n",
       "</div>"
      ],
      "text/plain": [
       "         SEVERITYCODE              X              Y ADDRTYPE         INTKEY  \\\n",
       "count   185653.000000  185653.000000  185653.000000   185653   64081.000000   \n",
       "unique            NaN            NaN            NaN        2            NaN   \n",
       "top               NaN            NaN            NaN    Block            NaN   \n",
       "freq              NaN            NaN            NaN   121572            NaN   \n",
       "mean         1.305947    -122.330503      47.619526      NaN   37348.094739   \n",
       "std          0.460809       0.029968       0.056274      NaN   50983.173636   \n",
       "min          1.000000    -122.419091      47.495573      NaN   23808.000000   \n",
       "25%          1.000000    -122.348673      47.575623      NaN   28665.000000   \n",
       "50%          1.000000    -122.330258      47.615310      NaN   29973.000000   \n",
       "75%          2.000000    -122.311937      47.663849      NaN   33983.000000   \n",
       "max          2.000000    -122.238949      47.734142      NaN  757580.000000   \n",
       "\n",
       "                                                 LOCATION  \\\n",
       "count                                              185653   \n",
       "unique                                              23679   \n",
       "top     N NORTHGATE WAY BETWEEN MERIDIAN AVE N AND COR...   \n",
       "freq                                                  261   \n",
       "mean                                                  NaN   \n",
       "std                                                   NaN   \n",
       "min                                                   NaN   \n",
       "25%                                                   NaN   \n",
       "50%                                                   NaN   \n",
       "75%                                                   NaN   \n",
       "max                                                   NaN   \n",
       "\n",
       "                       INCDATE    INCDTTM  \\\n",
       "count                   185653     185653   \n",
       "unique                    5984     155072   \n",
       "top     2006/11/02 00:00:00+00  11/2/2006   \n",
       "freq                        88         88   \n",
       "mean                       NaN        NaN   \n",
       "std                        NaN        NaN   \n",
       "min                        NaN        NaN   \n",
       "25%                        NaN        NaN   \n",
       "50%                        NaN        NaN   \n",
       "75%                        NaN        NaN   \n",
       "max                        NaN        NaN   \n",
       "\n",
       "                                   JUNCTIONTYPE  INATTENTIONIND  \\\n",
       "count                                    182726   185653.000000   \n",
       "unique                                        7             NaN   \n",
       "top     Mid-Block (not related to intersection)             NaN   \n",
       "freq                                      85673             NaN   \n",
       "mean                                        NaN        0.154880   \n",
       "std                                         NaN        0.361792   \n",
       "min                                         NaN        0.000000   \n",
       "25%                                         NaN        0.000000   \n",
       "50%                                         NaN        0.000000   \n",
       "75%                                         NaN        0.000000   \n",
       "max                                         NaN        1.000000   \n",
       "\n",
       "            UNDERINFL WEATHER ROADCOND LIGHTCOND       SPEEDING  \\\n",
       "count   185653.000000  181392   181459    181322  185653.000000   \n",
       "unique            NaN      11        9         9            NaN   \n",
       "top               NaN   Clear      Dry  Daylight            NaN   \n",
       "freq              NaN  108080   121175    112455            NaN   \n",
       "mean         0.047697     NaN      NaN       NaN       0.046759   \n",
       "std          0.213124     NaN      NaN       NaN       0.211123   \n",
       "min          0.000000     NaN      NaN       NaN       0.000000   \n",
       "25%          0.000000     NaN      NaN       NaN       0.000000   \n",
       "50%          0.000000     NaN      NaN       NaN       0.000000   \n",
       "75%          0.000000     NaN      NaN       NaN       0.000000   \n",
       "max          1.000000     NaN      NaN       NaN       1.000000   \n",
       "\n",
       "           SEGLANEKEY  CROSSWALKKEY  \n",
       "count   185653.000000  1.856530e+05  \n",
       "unique            NaN           NaN  \n",
       "top               NaN           NaN  \n",
       "freq              NaN           NaN  \n",
       "mean       277.988489  9.996757e+03  \n",
       "std       3380.728115  7.305605e+04  \n",
       "min          0.000000  0.000000e+00  \n",
       "25%          0.000000  0.000000e+00  \n",
       "50%          0.000000  0.000000e+00  \n",
       "75%          0.000000  0.000000e+00  \n",
       "max     525241.000000  5.239700e+06  "
      ]
     },
     "execution_count": 217,
     "metadata": {},
     "output_type": "execute_result"
    }
   ],
   "source": [
    "df_relevant.describe(include = \"all\")"
   ]
  },
  {
   "cell_type": "code",
   "execution_count": 218,
   "metadata": {},
   "outputs": [
    {
     "data": {
      "text/plain": [
       "(185653, 17)"
      ]
     },
     "execution_count": 218,
     "metadata": {},
     "output_type": "execute_result"
    }
   ],
   "source": [
    "df_relevant.shape"
   ]
  },
  {
   "cell_type": "code",
   "execution_count": 219,
   "metadata": {},
   "outputs": [],
   "source": [
    "%matplotlib inline \n",
    "\n",
    "import matplotlib as mpl\n",
    "import matplotlib.pyplot as plt"
   ]
  },
  {
   "cell_type": "code",
   "execution_count": 220,
   "metadata": {},
   "outputs": [
    {
     "data": {
      "text/plain": [
       "0    176972\n",
       "1      8681\n",
       "Name: SPEEDING, dtype: int64"
      ]
     },
     "execution_count": 220,
     "metadata": {},
     "output_type": "execute_result"
    }
   ],
   "source": [
    "df_speeding = df_relevant[['SPEEDING']]\n",
    "df_speeding['SPEEDING'].value_counts()"
   ]
  },
  {
   "cell_type": "code",
   "execution_count": 221,
   "metadata": {},
   "outputs": [
    {
     "data": {
      "text/html": [
       "<div>\n",
       "<style scoped>\n",
       "    .dataframe tbody tr th:only-of-type {\n",
       "        vertical-align: middle;\n",
       "    }\n",
       "\n",
       "    .dataframe tbody tr th {\n",
       "        vertical-align: top;\n",
       "    }\n",
       "\n",
       "    .dataframe thead th {\n",
       "        text-align: right;\n",
       "    }\n",
       "</style>\n",
       "<table border=\"1\" class=\"dataframe\">\n",
       "  <thead>\n",
       "    <tr style=\"text-align: right;\">\n",
       "      <th></th>\n",
       "      <th>SPEEDING</th>\n",
       "      <th>SEVERITYCODE</th>\n",
       "    </tr>\n",
       "  </thead>\n",
       "  <tbody>\n",
       "    <tr>\n",
       "      <th>0</th>\n",
       "      <td>0</td>\n",
       "      <td>2</td>\n",
       "    </tr>\n",
       "    <tr>\n",
       "      <th>1</th>\n",
       "      <td>0</td>\n",
       "      <td>1</td>\n",
       "    </tr>\n",
       "    <tr>\n",
       "      <th>2</th>\n",
       "      <td>0</td>\n",
       "      <td>1</td>\n",
       "    </tr>\n",
       "    <tr>\n",
       "      <th>3</th>\n",
       "      <td>0</td>\n",
       "      <td>1</td>\n",
       "    </tr>\n",
       "    <tr>\n",
       "      <th>4</th>\n",
       "      <td>0</td>\n",
       "      <td>2</td>\n",
       "    </tr>\n",
       "    <tr>\n",
       "      <th>...</th>\n",
       "      <td>...</td>\n",
       "      <td>...</td>\n",
       "    </tr>\n",
       "    <tr>\n",
       "      <th>194668</th>\n",
       "      <td>0</td>\n",
       "      <td>2</td>\n",
       "    </tr>\n",
       "    <tr>\n",
       "      <th>194669</th>\n",
       "      <td>0</td>\n",
       "      <td>1</td>\n",
       "    </tr>\n",
       "    <tr>\n",
       "      <th>194670</th>\n",
       "      <td>0</td>\n",
       "      <td>2</td>\n",
       "    </tr>\n",
       "    <tr>\n",
       "      <th>194671</th>\n",
       "      <td>0</td>\n",
       "      <td>2</td>\n",
       "    </tr>\n",
       "    <tr>\n",
       "      <th>194672</th>\n",
       "      <td>0</td>\n",
       "      <td>1</td>\n",
       "    </tr>\n",
       "  </tbody>\n",
       "</table>\n",
       "<p>185653 rows × 2 columns</p>\n",
       "</div>"
      ],
      "text/plain": [
       "        SPEEDING  SEVERITYCODE\n",
       "0              0             2\n",
       "1              0             1\n",
       "2              0             1\n",
       "3              0             1\n",
       "4              0             2\n",
       "...          ...           ...\n",
       "194668         0             2\n",
       "194669         0             1\n",
       "194670         0             2\n",
       "194671         0             2\n",
       "194672         0             1\n",
       "\n",
       "[185653 rows x 2 columns]"
      ]
     },
     "execution_count": 221,
     "metadata": {},
     "output_type": "execute_result"
    }
   ],
   "source": [
    "df_speeding_severity = df_relevant[['SPEEDING','SEVERITYCODE']]\n",
    "df_speeding_severity = df_speeding_severity[df_speeding_severity['SPEEDING'].notna()]\n",
    "df_speeding_severity"
   ]
  },
  {
   "cell_type": "code",
   "execution_count": 222,
   "metadata": {},
   "outputs": [
    {
     "data": {
      "text/plain": [
       "1    69.405288\n",
       "2    30.594712\n",
       "Name: SEVERITYCODE, dtype: float64"
      ]
     },
     "execution_count": 222,
     "metadata": {},
     "output_type": "execute_result"
    }
   ],
   "source": [
    "df_speeding_severity['SEVERITYCODE'].value_counts(normalize=True) * 100"
   ]
  },
  {
   "cell_type": "markdown",
   "metadata": {},
   "source": [
    "When speeding is involved then number of accidents fall into category 2 in 38% of cases "
   ]
  },
  {
   "cell_type": "code",
   "execution_count": 223,
   "metadata": {},
   "outputs": [
    {
     "data": {
      "text/html": [
       "<div>\n",
       "<style scoped>\n",
       "    .dataframe tbody tr th:only-of-type {\n",
       "        vertical-align: middle;\n",
       "    }\n",
       "\n",
       "    .dataframe tbody tr th {\n",
       "        vertical-align: top;\n",
       "    }\n",
       "\n",
       "    .dataframe thead th {\n",
       "        text-align: right;\n",
       "    }\n",
       "</style>\n",
       "<table border=\"1\" class=\"dataframe\">\n",
       "  <thead>\n",
       "    <tr style=\"text-align: right;\">\n",
       "      <th></th>\n",
       "      <th>SPEEDING</th>\n",
       "      <th>SEVERITYCODE</th>\n",
       "    </tr>\n",
       "  </thead>\n",
       "  <tbody>\n",
       "    <tr>\n",
       "      <th>0</th>\n",
       "      <td>0</td>\n",
       "      <td>2</td>\n",
       "    </tr>\n",
       "    <tr>\n",
       "      <th>1</th>\n",
       "      <td>0</td>\n",
       "      <td>1</td>\n",
       "    </tr>\n",
       "    <tr>\n",
       "      <th>2</th>\n",
       "      <td>0</td>\n",
       "      <td>1</td>\n",
       "    </tr>\n",
       "    <tr>\n",
       "      <th>3</th>\n",
       "      <td>0</td>\n",
       "      <td>1</td>\n",
       "    </tr>\n",
       "    <tr>\n",
       "      <th>4</th>\n",
       "      <td>0</td>\n",
       "      <td>2</td>\n",
       "    </tr>\n",
       "    <tr>\n",
       "      <th>...</th>\n",
       "      <td>...</td>\n",
       "      <td>...</td>\n",
       "    </tr>\n",
       "    <tr>\n",
       "      <th>194668</th>\n",
       "      <td>0</td>\n",
       "      <td>2</td>\n",
       "    </tr>\n",
       "    <tr>\n",
       "      <th>194669</th>\n",
       "      <td>0</td>\n",
       "      <td>1</td>\n",
       "    </tr>\n",
       "    <tr>\n",
       "      <th>194670</th>\n",
       "      <td>0</td>\n",
       "      <td>2</td>\n",
       "    </tr>\n",
       "    <tr>\n",
       "      <th>194671</th>\n",
       "      <td>0</td>\n",
       "      <td>2</td>\n",
       "    </tr>\n",
       "    <tr>\n",
       "      <th>194672</th>\n",
       "      <td>0</td>\n",
       "      <td>1</td>\n",
       "    </tr>\n",
       "  </tbody>\n",
       "</table>\n",
       "<p>176972 rows × 2 columns</p>\n",
       "</div>"
      ],
      "text/plain": [
       "        SPEEDING  SEVERITYCODE\n",
       "0              0             2\n",
       "1              0             1\n",
       "2              0             1\n",
       "3              0             1\n",
       "4              0             2\n",
       "...          ...           ...\n",
       "194668         0             2\n",
       "194669         0             1\n",
       "194670         0             2\n",
       "194671         0             2\n",
       "194672         0             1\n",
       "\n",
       "[176972 rows x 2 columns]"
      ]
     },
     "execution_count": 223,
     "metadata": {},
     "output_type": "execute_result"
    }
   ],
   "source": [
    "df_not_speeding_severity = df_relevant[['SPEEDING','SEVERITYCODE']]\n",
    "df_not_speeding_severity = df_not_speeding_severity[df_not_speeding_severity['SPEEDING'] == 0]\n",
    "df_not_speeding_severity"
   ]
  },
  {
   "cell_type": "code",
   "execution_count": 224,
   "metadata": {},
   "outputs": [
    {
     "data": {
      "text/plain": [
       "1    69.777705\n",
       "2    30.222295\n",
       "Name: SEVERITYCODE, dtype: float64"
      ]
     },
     "execution_count": 224,
     "metadata": {},
     "output_type": "execute_result"
    }
   ],
   "source": [
    "df_not_speeding_severity['SEVERITYCODE'].value_counts(normalize=True) * 100"
   ]
  },
  {
   "cell_type": "code",
   "execution_count": 225,
   "metadata": {},
   "outputs": [
    {
     "data": {
      "text/plain": [
       "0    176798\n",
       "1      8855\n",
       "Name: UNDERINFL, dtype: int64"
      ]
     },
     "execution_count": 225,
     "metadata": {},
     "output_type": "execute_result"
    }
   ],
   "source": [
    "df_underinfluence = df_relevant[['UNDERINFL']]\n",
    "df_underinfluence['UNDERINFL'].value_counts()"
   ]
  },
  {
   "cell_type": "markdown",
   "metadata": {},
   "source": [
    "When non speeding involved then number of accidents fall into category 2 in 30% of cases "
   ]
  },
  {
   "cell_type": "code",
   "execution_count": 226,
   "metadata": {},
   "outputs": [
    {
     "data": {
      "text/html": [
       "<div>\n",
       "<style scoped>\n",
       "    .dataframe tbody tr th:only-of-type {\n",
       "        vertical-align: middle;\n",
       "    }\n",
       "\n",
       "    .dataframe tbody tr th {\n",
       "        vertical-align: top;\n",
       "    }\n",
       "\n",
       "    .dataframe thead th {\n",
       "        text-align: right;\n",
       "    }\n",
       "</style>\n",
       "<table border=\"1\" class=\"dataframe\">\n",
       "  <thead>\n",
       "    <tr style=\"text-align: right;\">\n",
       "      <th></th>\n",
       "      <th>UNDERINFL</th>\n",
       "      <th>SEVERITYCODE</th>\n",
       "    </tr>\n",
       "  </thead>\n",
       "  <tbody>\n",
       "    <tr>\n",
       "      <th>33</th>\n",
       "      <td>1</td>\n",
       "      <td>1</td>\n",
       "    </tr>\n",
       "    <tr>\n",
       "      <th>110</th>\n",
       "      <td>1</td>\n",
       "      <td>1</td>\n",
       "    </tr>\n",
       "    <tr>\n",
       "      <th>124</th>\n",
       "      <td>1</td>\n",
       "      <td>2</td>\n",
       "    </tr>\n",
       "    <tr>\n",
       "      <th>158</th>\n",
       "      <td>1</td>\n",
       "      <td>2</td>\n",
       "    </tr>\n",
       "    <tr>\n",
       "      <th>175</th>\n",
       "      <td>1</td>\n",
       "      <td>2</td>\n",
       "    </tr>\n",
       "    <tr>\n",
       "      <th>...</th>\n",
       "      <td>...</td>\n",
       "      <td>...</td>\n",
       "    </tr>\n",
       "    <tr>\n",
       "      <th>194633</th>\n",
       "      <td>1</td>\n",
       "      <td>2</td>\n",
       "    </tr>\n",
       "    <tr>\n",
       "      <th>194648</th>\n",
       "      <td>1</td>\n",
       "      <td>1</td>\n",
       "    </tr>\n",
       "    <tr>\n",
       "      <th>194653</th>\n",
       "      <td>1</td>\n",
       "      <td>2</td>\n",
       "    </tr>\n",
       "    <tr>\n",
       "      <th>194661</th>\n",
       "      <td>1</td>\n",
       "      <td>2</td>\n",
       "    </tr>\n",
       "    <tr>\n",
       "      <th>194667</th>\n",
       "      <td>1</td>\n",
       "      <td>1</td>\n",
       "    </tr>\n",
       "  </tbody>\n",
       "</table>\n",
       "<p>8855 rows × 2 columns</p>\n",
       "</div>"
      ],
      "text/plain": [
       "        UNDERINFL  SEVERITYCODE\n",
       "33              1             1\n",
       "110             1             1\n",
       "124             1             2\n",
       "158             1             2\n",
       "175             1             2\n",
       "...           ...           ...\n",
       "194633          1             2\n",
       "194648          1             1\n",
       "194653          1             2\n",
       "194661          1             2\n",
       "194667          1             1\n",
       "\n",
       "[8855 rows x 2 columns]"
      ]
     },
     "execution_count": 226,
     "metadata": {},
     "output_type": "execute_result"
    }
   ],
   "source": [
    "df_under_influence = df_relevant[['UNDERINFL','SEVERITYCODE']]\n",
    "df_under_influence = df_under_influence[df_under_influence['UNDERINFL'] == 1]\n",
    "df_under_influence"
   ]
  },
  {
   "cell_type": "code",
   "execution_count": 227,
   "metadata": {},
   "outputs": [
    {
     "data": {
      "text/plain": [
       "1    60.734049\n",
       "2    39.265951\n",
       "Name: SEVERITYCODE, dtype: float64"
      ]
     },
     "execution_count": 227,
     "metadata": {},
     "output_type": "execute_result"
    }
   ],
   "source": [
    "df_under_influence['SEVERITYCODE'].value_counts(normalize=True) * 100"
   ]
  },
  {
   "cell_type": "code",
   "execution_count": 228,
   "metadata": {},
   "outputs": [
    {
     "data": {
      "text/html": [
       "<div>\n",
       "<style scoped>\n",
       "    .dataframe tbody tr th:only-of-type {\n",
       "        vertical-align: middle;\n",
       "    }\n",
       "\n",
       "    .dataframe tbody tr th {\n",
       "        vertical-align: top;\n",
       "    }\n",
       "\n",
       "    .dataframe thead th {\n",
       "        text-align: right;\n",
       "    }\n",
       "</style>\n",
       "<table border=\"1\" class=\"dataframe\">\n",
       "  <thead>\n",
       "    <tr style=\"text-align: right;\">\n",
       "      <th></th>\n",
       "      <th>UNDERINFL</th>\n",
       "      <th>SEVERITYCODE</th>\n",
       "    </tr>\n",
       "  </thead>\n",
       "  <tbody>\n",
       "    <tr>\n",
       "      <th>0</th>\n",
       "      <td>0</td>\n",
       "      <td>2</td>\n",
       "    </tr>\n",
       "    <tr>\n",
       "      <th>1</th>\n",
       "      <td>0</td>\n",
       "      <td>1</td>\n",
       "    </tr>\n",
       "    <tr>\n",
       "      <th>2</th>\n",
       "      <td>0</td>\n",
       "      <td>1</td>\n",
       "    </tr>\n",
       "    <tr>\n",
       "      <th>3</th>\n",
       "      <td>0</td>\n",
       "      <td>1</td>\n",
       "    </tr>\n",
       "    <tr>\n",
       "      <th>4</th>\n",
       "      <td>0</td>\n",
       "      <td>2</td>\n",
       "    </tr>\n",
       "    <tr>\n",
       "      <th>...</th>\n",
       "      <td>...</td>\n",
       "      <td>...</td>\n",
       "    </tr>\n",
       "    <tr>\n",
       "      <th>194668</th>\n",
       "      <td>0</td>\n",
       "      <td>2</td>\n",
       "    </tr>\n",
       "    <tr>\n",
       "      <th>194669</th>\n",
       "      <td>0</td>\n",
       "      <td>1</td>\n",
       "    </tr>\n",
       "    <tr>\n",
       "      <th>194670</th>\n",
       "      <td>0</td>\n",
       "      <td>2</td>\n",
       "    </tr>\n",
       "    <tr>\n",
       "      <th>194671</th>\n",
       "      <td>0</td>\n",
       "      <td>2</td>\n",
       "    </tr>\n",
       "    <tr>\n",
       "      <th>194672</th>\n",
       "      <td>0</td>\n",
       "      <td>1</td>\n",
       "    </tr>\n",
       "  </tbody>\n",
       "</table>\n",
       "<p>176798 rows × 2 columns</p>\n",
       "</div>"
      ],
      "text/plain": [
       "        UNDERINFL  SEVERITYCODE\n",
       "0               0             2\n",
       "1               0             1\n",
       "2               0             1\n",
       "3               0             1\n",
       "4               0             2\n",
       "...           ...           ...\n",
       "194668          0             2\n",
       "194669          0             1\n",
       "194670          0             2\n",
       "194671          0             2\n",
       "194672          0             1\n",
       "\n",
       "[176798 rows x 2 columns]"
      ]
     },
     "execution_count": 228,
     "metadata": {},
     "output_type": "execute_result"
    }
   ],
   "source": [
    "df_not_under_influence = df_relevant[['UNDERINFL','SEVERITYCODE']]\n",
    "df_not_under_influence = df_not_under_influence[df_not_under_influence['UNDERINFL'] == 0]\n",
    "df_not_under_influence"
   ]
  },
  {
   "cell_type": "code",
   "execution_count": 229,
   "metadata": {},
   "outputs": [
    {
     "data": {
      "text/plain": [
       "1    69.839591\n",
       "2    30.160409\n",
       "Name: SEVERITYCODE, dtype: float64"
      ]
     },
     "execution_count": 229,
     "metadata": {},
     "output_type": "execute_result"
    }
   ],
   "source": [
    "df_not_under_influence['SEVERITYCODE'].value_counts(normalize=True) * 100"
   ]
  },
  {
   "cell_type": "markdown",
   "metadata": {},
   "source": [
    "When underinfluence then from data the percentage of severe number 2 is 39 %. When not under influence then nubmer 2 is 30%"
   ]
  },
  {
   "cell_type": "code",
   "execution_count": 230,
   "metadata": {},
   "outputs": [
    {
     "data": {
      "text/plain": [
       "array(['Overcast', 'Raining', 'Clear', nan, 'Unknown', 'Other', 'Snowing',\n",
       "       'Fog/Smog/Smoke', 'Sleet/Hail/Freezing Rain', 'Blowing Sand/Dirt',\n",
       "       'Severe Crosswind', 'Partly Cloudy'], dtype=object)"
      ]
     },
     "execution_count": 230,
     "metadata": {},
     "output_type": "execute_result"
    }
   ],
   "source": [
    "df_weather = df_relevant[['WEATHER']]\n",
    "df_weather['WEATHER'].unique()"
   ]
  },
  {
   "cell_type": "code",
   "execution_count": 231,
   "metadata": {},
   "outputs": [
    {
     "data": {
      "text/plain": [
       "Clear                       59.583664\n",
       "Raining                     17.543773\n",
       "Overcast                    14.871108\n",
       "Unknown                      6.706470\n",
       "Snowing                      0.484035\n",
       "Other                        0.404097\n",
       "Fog/Smog/Smoke               0.302108\n",
       "Sleet/Hail/Freezing Rain     0.061745\n",
       "Blowing Sand/Dirt            0.027013\n",
       "Severe Crosswind             0.013231\n",
       "Partly Cloudy                0.002756\n",
       "Name: WEATHER, dtype: float64"
      ]
     },
     "execution_count": 231,
     "metadata": {},
     "output_type": "execute_result"
    }
   ],
   "source": [
    "df_weather['WEATHER'].value_counts(normalize=True) * 100"
   ]
  },
  {
   "cell_type": "code",
   "execution_count": 232,
   "metadata": {},
   "outputs": [
    {
     "data": {
      "text/plain": [
       "Dry               66.778170\n",
       "Wet               25.236555\n",
       "Unknown            6.622984\n",
       "Ice                0.641467\n",
       "Snow/Slush         0.539516\n",
       "Other              0.063375\n",
       "Standing Water     0.055109\n",
       "Sand/Mud/Dirt      0.035270\n",
       "Oil                0.027554\n",
       "Name: ROADCOND, dtype: float64"
      ]
     },
     "execution_count": 232,
     "metadata": {},
     "output_type": "execute_result"
    }
   ],
   "source": [
    "df_relevant['ROADCOND'].value_counts(normalize=True) * 100"
   ]
  },
  {
   "cell_type": "code",
   "execution_count": 233,
   "metadata": {},
   "outputs": [
    {
     "data": {
      "text/plain": [
       "Daylight                    62.019501\n",
       "Dark - Street Lights On     25.879375\n",
       "Unknown                      6.093579\n",
       "Dusk                         3.159021\n",
       "Dawn                         1.326921\n",
       "Dark - No Street Lights      0.788101\n",
       "Dark - Street Lights Off     0.629267\n",
       "Other                        0.098168\n",
       "Dark - Unknown Lighting      0.006067\n",
       "Name: LIGHTCOND, dtype: float64"
      ]
     },
     "execution_count": 233,
     "metadata": {},
     "output_type": "execute_result"
    }
   ],
   "source": [
    "df_relevant['LIGHTCOND'].value_counts(normalize=True) * 100"
   ]
  },
  {
   "cell_type": "code",
   "execution_count": 234,
   "metadata": {},
   "outputs": [
    {
     "data": {
      "text/plain": [
       "Block           65.483456\n",
       "Intersection    34.516544\n",
       "Name: ADDRTYPE, dtype: float64"
      ]
     },
     "execution_count": 234,
     "metadata": {},
     "output_type": "execute_result"
    }
   ],
   "source": [
    "df_relevant['ADDRTYPE'].value_counts(normalize=True) * 100"
   ]
  },
  {
   "cell_type": "code",
   "execution_count": 235,
   "metadata": {},
   "outputs": [
    {
     "data": {
      "text/plain": [
       "N NORTHGATE WAY BETWEEN MERIDIAN AVE N AND CORLISS AVE N    0.140585\n",
       "AURORA AVE N BETWEEN N 117TH PL AND N 125TH ST              0.136276\n",
       "6TH AVE AND JAMES ST                                        0.135198\n",
       "AURORA AVE N BETWEEN N 130TH ST AND N 135TH ST              0.127119\n",
       "RAINIER AVE S BETWEEN S BAYVIEW ST AND S MCCLELLAN ST       0.123887\n",
       "                                                              ...   \n",
       "BOSTON ST BETWEEN 5TH AVE N AND DEAD END                    0.000539\n",
       "N 114TH ST BETWEEN DEAD END AND CORLISS AVE N               0.000539\n",
       "24TH AVE S BETWEEN DEAD END 2 AND S MCCLELLAN ST            0.000539\n",
       "WOODLAWN AVE N BETWEEN N 51ST ST AND N 52ND ST              0.000539\n",
       "NW 112TH ST BETWEEN 2ND W AVE NW AND 3RD AVE NW             0.000539\n",
       "Name: LOCATION, Length: 23679, dtype: float64"
      ]
     },
     "execution_count": 235,
     "metadata": {},
     "output_type": "execute_result"
    }
   ],
   "source": [
    "df_relevant['LOCATION'].value_counts(normalize=True) * 100"
   ]
  },
  {
   "cell_type": "code",
   "execution_count": 236,
   "metadata": {},
   "outputs": [
    {
     "data": {
      "text/plain": [
       "Mid-Block (not related to intersection)              46.886048\n",
       "At Intersection (intersection related)               33.853420\n",
       "Mid-Block (but intersection related)                 12.280135\n",
       "Driveway Junction                                     5.784617\n",
       "At Intersection (but not related to intersection)     1.115331\n",
       "Ramp Junction                                         0.077712\n",
       "Unknown                                               0.002736\n",
       "Name: JUNCTIONTYPE, dtype: float64"
      ]
     },
     "execution_count": 236,
     "metadata": {},
     "output_type": "execute_result"
    }
   ],
   "source": [
    "df_relevant['JUNCTIONTYPE'].value_counts(normalize=True) * 100"
   ]
  },
  {
   "cell_type": "code",
   "execution_count": 238,
   "metadata": {},
   "outputs": [
    {
     "data": {
      "text/plain": [
       "0    84.511966\n",
       "1    15.488034\n",
       "Name: INATTENTIONIND, dtype: float64"
      ]
     },
     "execution_count": 238,
     "metadata": {},
     "output_type": "execute_result"
    }
   ],
   "source": [
    "df_relevant['INATTENTIONIND'].value_counts(normalize=True) * 100"
   ]
  },
  {
   "cell_type": "code",
   "execution_count": 256,
   "metadata": {},
   "outputs": [],
   "source": [
    "df_years = df_relevant['INCDATE'].str[:4]"
   ]
  },
  {
   "cell_type": "code",
   "execution_count": 258,
   "metadata": {},
   "outputs": [
    {
     "data": {
      "text/plain": [
       "2006    14816\n",
       "2005    14760\n",
       "2007    14035\n",
       "2008    13169\n",
       "2004    11568\n",
       "2009    11312\n",
       "2015    11013\n",
       "2014    10918\n",
       "2016    10606\n",
       "2011    10587\n",
       "2012    10539\n",
       "2010    10476\n",
       "2017    10261\n",
       "2013    10166\n",
       "2018     9916\n",
       "2019     9318\n",
       "2020     2193\n",
       "Name: INCDATE, dtype: int64"
      ]
     },
     "execution_count": 258,
     "metadata": {},
     "output_type": "execute_result"
    }
   ],
   "source": [
    "df_years.value_counts()"
   ]
  },
  {
   "cell_type": "code",
   "execution_count": null,
   "metadata": {},
   "outputs": [],
   "source": []
  }
 ],
 "metadata": {
  "kernelspec": {
   "display_name": "Python 3",
   "language": "python",
   "name": "python3"
  },
  "language_info": {
   "codemirror_mode": {
    "name": "ipython",
    "version": 3
   },
   "file_extension": ".py",
   "mimetype": "text/x-python",
   "name": "python",
   "nbconvert_exporter": "python",
   "pygments_lexer": "ipython3",
   "version": "3.7.6"
  }
 },
 "nbformat": 4,
 "nbformat_minor": 4
}
